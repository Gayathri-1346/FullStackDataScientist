{
 "cells": [
  {
   "cell_type": "code",
   "execution_count": null,
   "id": "54471308",
   "metadata": {},
   "outputs": [
    {
     "name": "stdout",
     "output_type": "stream",
     "text": [
      "5\n",
      "2\n"
     ]
    }
   ],
   "source": [
    "#Swap of 2 numbers(without 3rs variable)\n",
    "a,b=map(int,input().split())\n",
    "#print(a)\n",
    "#print(b)\n",
    "a,b=b,a\n",
    "print(a)\n",
    "print(b)"
   ]
  },
  {
   "cell_type": "code",
   "execution_count": null,
   "id": "562c97ff",
   "metadata": {},
   "outputs": [
    {
     "name": "stdout",
     "output_type": "stream",
     "text": [
      "irhtayag\n"
     ]
    }
   ],
   "source": [
    "#Reverse of a String\n",
    "a=input()\n",
    "re=''.join(reversed(a))\n",
    "print(re)"
   ]
  },
  {
   "cell_type": "code",
   "execution_count": null,
   "id": "e752125d",
   "metadata": {},
   "outputs": [
    {
     "name": "stdout",
     "output_type": "stream",
     "text": [
      "True\n"
     ]
    }
   ],
   "source": [
    "#Checking Amstrong Number\n",
    "a=int(input())\n",
    "re=0\n",
    "b=str(a)\n",
    "c=a\n",
    "p=len(b)\n",
    "while a>0:\n",
    "    n=a%10\n",
    "    re=re+(n)**p\n",
    "    a=a//10\n",
    "if re==c:\n",
    "    print(True)\n",
    "else:\n",
    "    print(False)\n"
   ]
  },
  {
   "cell_type": "code",
   "execution_count": null,
   "id": "452b06b9",
   "metadata": {},
   "outputs": [
    {
     "name": "stdout",
     "output_type": "stream",
     "text": [
      "5\n",
      "3\n"
     ]
    }
   ],
   "source": [
    "#Count of vowels and consonants\n",
    "sen=input()\n",
    "d=0\n",
    "c=0\n",
    "v=\"aeiou\"\n",
    "for a in sen:\n",
    "    if a.isalpha:\n",
    "        if a in v:\n",
    "            c=c+1\n",
    "        else:\n",
    "            d=d+1\n",
    "print(d)\n",
    "print(c)"
   ]
  },
  {
   "cell_type": "code",
   "execution_count": null,
   "id": "5011e0d8",
   "metadata": {},
   "outputs": [
    {
     "name": "stdout",
     "output_type": "stream",
     "text": [
      "3 * 1 = 3\n",
      "3 * 2 = 6\n",
      "3 * 3 = 9\n",
      "3 * 4 = 12\n",
      "3 * 5 = 15\n",
      "3 * 6 = 18\n",
      "3 * 7 = 21\n",
      "3 * 8 = 24\n",
      "3 * 9 = 27\n",
      "3 * 10 = 30\n"
     ]
    }
   ],
   "source": [
    "#Multiplicatioon of a table\n",
    "a=int(input())\n",
    "for i in range(1,11):\n",
    "    print(a,\"*\",i,\"=\",a*i)"
   ]
  },
  {
   "cell_type": "code",
   "execution_count": null,
   "id": "5c51b130",
   "metadata": {},
   "outputs": [
    {
     "name": "stdout",
     "output_type": "stream",
     "text": [
      "2016 is leap year\n"
     ]
    }
   ],
   "source": [
    "#Leap Year\n",
    "y=int(input())\n",
    "if (y%400==0 )or( y%4==0 and y%100!=0):\n",
    "    print(y,\"is leap year\")"
   ]
  },
  {
   "cell_type": "code",
   "execution_count": null,
   "id": "9dea643a",
   "metadata": {},
   "outputs": [
    {
     "name": "stdout",
     "output_type": "stream",
     "text": [
      "5\n"
     ]
    }
   ],
   "source": [
    "# Gratest of five numbers\n",
    "a,b,c,d,e=map(int,input().split())\n",
    "print(max(a,b,c,d,e))"
   ]
  },
  {
   "cell_type": "code",
   "execution_count": null,
   "id": "2161f2fd",
   "metadata": {},
   "outputs": [
    {
     "name": "stdout",
     "output_type": "stream",
     "text": [
      "mom is palindrome\n"
     ]
    }
   ],
   "source": [
    "#Check is Palindrome\n",
    "s=input()\n",
    "if(s==s[::-1]):\n",
    "    print(s,\"is palindrome\")"
   ]
  },
  {
   "cell_type": "code",
   "execution_count": null,
   "id": "b8ad37f6",
   "metadata": {},
   "outputs": [
    {
     "name": "stdout",
     "output_type": "stream",
     "text": [
      "24\n"
     ]
    }
   ],
   "source": [
    "#factorial \n",
    "n=int(input())\n",
    "c=1\n",
    "if n==0 and n==1:\n",
    "    print(1)\n",
    "else:\n",
    "    for i in range(2,n+1):\n",
    "        c=c*i\n",
    "    print(c)\n"
   ]
  },
  {
   "cell_type": "code",
   "execution_count": null,
   "id": "feaa9f77",
   "metadata": {},
   "outputs": [
    {
     "name": "stdout",
     "output_type": "stream",
     "text": [
      "15 30 45 60 75 90 "
     ]
    }
   ],
   "source": [
    "#Divisible by 3 and 5\n",
    "for i in range(1,101):\n",
    "    if(i%3==0 and i%5==0):\n",
    "        print(i,end=\" \")\n",
    "#print(*n)"
   ]
  },
  {
   "cell_type": "code",
   "execution_count": null,
   "id": "6cc4af15",
   "metadata": {},
   "outputs": [
    {
     "name": "stdout",
     "output_type": "stream",
     "text": [
      "Not Prime\n"
     ]
    }
   ],
   "source": [
    "# Prime\n",
    "n=int(input())\n",
    "c=0\n",
    "for i in range(1,n+1):\n",
    "    if n%i==0:\n",
    "        c=c+1\n",
    "if c>2:\n",
    "    print(\"Not Prime\")      \n",
    "else:\n",
    "    print(\"Prime\")"
   ]
  },
  {
   "cell_type": "code",
   "execution_count": null,
   "id": "b84b28ce",
   "metadata": {},
   "outputs": [
    {
     "name": "stdout",
     "output_type": "stream",
     "text": [
      "4\n"
     ]
    }
   ],
   "source": [
    "#Second largest number in alist\n",
    "a=list(map(int,input().split()))\n",
    "c=sorted(a,reverse=True)\n",
    "print(c[1])"
   ]
  },
  {
   "cell_type": "code",
   "execution_count": null,
   "id": "33bbf9bc",
   "metadata": {},
   "outputs": [
    {
     "name": "stdout",
     "output_type": "stream",
     "text": [
      "650\n"
     ]
    }
   ],
   "source": [
    "#Sum of Even 1-50\n",
    "c=0\n",
    "for i in range(1,51):\n",
    "    if i%2==0:\n",
    "        c=c+i\n",
    "print(c)"
   ]
  },
  {
   "cell_type": "code",
   "execution_count": null,
   "id": "34163a69",
   "metadata": {},
   "outputs": [
    {
     "name": "stdout",
     "output_type": "stream",
     "text": [
      "No of Upper-Case= 2\n",
      "No of Lower-Case= 6\n"
     ]
    }
   ],
   "source": [
    "#Count of lowercase and uppercase\n",
    "s=input()\n",
    "u=0\n",
    "l=0\n",
    "for c in s:\n",
    "    if c.isalpha():\n",
    "        if c.isupper():\n",
    "            u=u+1\n",
    "        else:\n",
    "            l=l+1\n",
    "print(\"No of Upper-Case=\",u)  \n",
    "print(\"No of Lower-Case=\",l)  "
   ]
  },
  {
   "cell_type": "code",
   "execution_count": null,
   "id": "25046ba0",
   "metadata": {},
   "outputs": [
    {
     "name": "stdout",
     "output_type": "stream",
     "text": [
      "0 1 1 2 3 5 8\n"
     ]
    }
   ],
   "source": [
    "#Fibanocci Series\n",
    "n=int(input())\n",
    "l=[]\n",
    "if n==0 or n==1:\n",
    "    l.append(1)\n",
    "else:\n",
    "    l=[0,1]    \n",
    "    for i in range(2,n+1):\n",
    "        l.append(l[i-1]+l[i-2])\n",
    "print(*l)\n",
    "    \n"
   ]
  },
  {
   "cell_type": "code",
   "execution_count": null,
   "id": "cdd3778f",
   "metadata": {},
   "outputs": [],
   "source": [
    "#Anagrams\n",
    "s1,s2=map(input().split())\n",
    "s1=s1.lower()\n",
    "s2=s2.lower()\n",
    "if sorted(s1)==sorted(s2):\n",
    "    print(s1,\"and\",s2,\"are anagrams\")"
   ]
  },
  {
   "cell_type": "code",
   "execution_count": 60,
   "id": "4a382dca",
   "metadata": {},
   "outputs": [
    {
     "name": "stdout",
     "output_type": "stream",
     "text": [
      "Perfect Number\n"
     ]
    }
   ],
   "source": [
    "#Perfect Number\n",
    "n=int(input())\n",
    "c=0\n",
    "for i in range(1,n):\n",
    "    if n%i==0:\n",
    "        c=c+i\n",
    "if c==n:\n",
    "    print(\"Perfect Number\")        "
   ]
  },
  {
   "cell_type": "code",
   "execution_count": null,
   "id": "66c1ba88",
   "metadata": {},
   "outputs": [
    {
     "name": "stdout",
     "output_type": "stream",
     "text": [
      "Fail\n"
     ]
    }
   ],
   "source": [
    "# Grade of subjects\n",
    "math,phy,bio,soc,cs=map(int,input().split())\n",
    "tm=500\n",
    "gm=math+phy+bio+soc+cs\n",
    "if gm<=tm:\n",
    "    re=(gm/tm)*100\n",
    "    if re>=90:\n",
    "        print(\"A\")\n",
    "    elif re>=75:\n",
    "        print(\"B\")\n",
    "    elif re>=50:\n",
    "        print(\"C\")\n",
    "    else:\n",
    "        print(\"Fail\") \n",
    "else:\n",
    "    print(\"Invalid total marks\")  "
   ]
  },
  {
   "cell_type": "code",
   "execution_count": null,
   "id": "3257de80",
   "metadata": {},
   "outputs": [
    {
     "name": "stdout",
     "output_type": "stream",
     "text": [
      "2 3 5 7 11 13 17 19 23 29 31 37 41 43 47 53 59 61 67 71 73 79 83 89 97\n"
     ]
    }
   ],
   "source": [
    "#Prime Numbers 1-100\n",
    "l=[]\n",
    "for i in range(2,100):\n",
    "    c=0\n",
    "    for j in range(1,i+1):\n",
    "        if i%j==0:\n",
    "            c=c+1\n",
    "    if c==2:\n",
    "        l.append(j)\n",
    "print(*l)\n",
    "\n",
    "          "
   ]
  },
  {
   "cell_type": "code",
   "execution_count": null,
   "id": "45988cd3",
   "metadata": {},
   "outputs": [
    {
     "name": "stdout",
     "output_type": "stream",
     "text": [
      "5\n"
     ]
    }
   ],
   "source": [
    "#Number of words\n",
    "s=input()\n",
    "w=s.split()\n",
    "l=list(w)\n",
    "print(len(l))"
   ]
  },
  {
   "cell_type": "code",
   "execution_count": 73,
   "id": "e4f171f2",
   "metadata": {},
   "outputs": [
    {
     "name": "stdout",
     "output_type": "stream",
     "text": [
      "90.0\n"
     ]
    }
   ],
   "source": [
    "#Ticket Price\n",
    "tp=int(input())\n",
    "age=int(input())\n",
    "s=input()\n",
    "if s=='Yes':\n",
    "    a=tp-tp*(20/100)\n",
    "    print(a)\n",
    "elif s=='No':\n",
    "    if age>=60:\n",
    "        a=tp-tp*(10/100)\n",
    "        print(a)\n",
    "    else:\n",
    "        print(tp)    \n",
    "else:\n",
    "    print(\"invalid\")"
   ]
  },
  {
   "cell_type": "code",
   "execution_count": null,
   "id": "6d3356f0",
   "metadata": {},
   "outputs": [
    {
     "name": "stdout",
     "output_type": "stream",
     "text": [
      "550\n"
     ]
    }
   ],
   "source": [
    "#Total value of Cart\n",
    "t=int(input())\n",
    "if t>500:\n",
    "    print(t)\n",
    "else:\n",
    "    print(t+50)"
   ]
  },
  {
   "cell_type": "code",
   "execution_count": null,
   "id": "23dfc30f",
   "metadata": {},
   "outputs": [
    {
     "name": "stdout",
     "output_type": "stream",
     "text": [
      "A\n"
     ]
    }
   ],
   "source": [
    "#Grade of marks\n",
    "m=int(input())\n",
    "if m>=90 and m<100:\n",
    "    print(\"A\")\n",
    "elif m>=75 and m<89:\n",
    "    print(\"B\")\n",
    "elif m>=50 and m<74:\n",
    "    print(\"C\")        \n",
    "elif m<50:\n",
    "    print(\"Fail\")\n",
    "else:\n",
    "    print(\"invalid\")  \n"
   ]
  },
  {
   "cell_type": "code",
   "execution_count": 84,
   "id": "78dc02ba",
   "metadata": {},
   "outputs": [
    {
     "name": "stdout",
     "output_type": "stream",
     "text": [
      "2300.0\n"
     ]
    }
   ],
   "source": [
    "#Tip Calculator\n",
    "b=int(input())\n",
    "if b<500:\n",
    "    b=b+(b*(5/100))\n",
    "    print(b)\n",
    "elif b>500 and b<=1000:\n",
    "    b=b+(b*(10/100))\n",
    "    print(b)\n",
    "else:\n",
    "    b=b+(b*(15/100))\n",
    "    print(b)"
   ]
  },
  {
   "cell_type": "code",
   "execution_count": null,
   "id": "e61af527",
   "metadata": {},
   "outputs": [
    {
     "name": "stdout",
     "output_type": "stream",
     "text": [
      "500\n"
     ]
    }
   ],
   "source": [
    "#Gym Membership Plan\n",
    "m=int(input())\n",
    "if m==12 or m==1 or m==6:\n",
    "    if m==1:\n",
    "        print(500)\n",
    "    elif m==6:\n",
    "        print(2700)\n",
    "    elif m==12:\n",
    "        print(5000)\n",
    "else:\n",
    "    print(\"invalid\")"
   ]
  },
  {
   "cell_type": "code",
   "execution_count": 95,
   "id": "e5033ad3",
   "metadata": {},
   "outputs": [
    {
     "name": "stdout",
     "output_type": "stream",
     "text": [
      "Eligible\n"
     ]
    }
   ],
   "source": [
    "#Exam Eligibility\n",
    "tc=int(input())\n",
    "ca=int(input())\n",
    "ap=(ca/tc)*100\n",
    "if ap>=75:\n",
    "    print(\"Eligible\")\n",
    "else:\n",
    "    print(\"Not Eligible\")"
   ]
  },
  {
   "cell_type": "code",
   "execution_count": 98,
   "id": "d03831e3",
   "metadata": {},
   "outputs": [
    {
     "name": "stdout",
     "output_type": "stream",
     "text": [
      "Failed\n"
     ]
    }
   ],
   "source": [
    "#ATM Withdrawal\n",
    "n=int(input())\n",
    "if n%100==0:\n",
    "    print(\"Successful\")\n",
    "else:\n",
    "    print(\"Failed\")"
   ]
  },
  {
   "cell_type": "code",
   "execution_count": 103,
   "id": "cd79b72e",
   "metadata": {},
   "outputs": [
    {
     "name": "stdout",
     "output_type": "stream",
     "text": [
      "Invalid\n"
     ]
    }
   ],
   "source": [
    "#Weather Suggestion\n",
    "t=int(input())\n",
    "if t==35:\n",
    "    print(\"Too hot, stay indoors!\")\n",
    "elif t>20 and t<35:\n",
    "    print(\"Nice weather, go out!\")\n",
    "elif t<20:\n",
    "    print(\"It’s cold, wear warm clothes!\")\n",
    "else:\n",
    "    print(\"Invalid\")"
   ]
  },
  {
   "cell_type": "code",
   "execution_count": 110,
   "id": "e77885e0",
   "metadata": {},
   "outputs": [
    {
     "name": "stdout",
     "output_type": "stream",
     "text": [
      "50\n"
     ]
    }
   ],
   "source": [
    "#Library Fine\n",
    "m=int(input())\n",
    "\n",
    "if m>=1 and m<=5:\n",
    "    print(10)\n",
    "elif m>=6 and m<=10:\n",
    "    print(50)\n",
    "elif m>10:\n",
    "    print(100)\n",
    "else:\n",
    "    print(\"invalid\")"
   ]
  },
  {
   "cell_type": "code",
   "execution_count": 112,
   "id": "84c783bc",
   "metadata": {},
   "outputs": [
    {
     "name": "stdout",
     "output_type": "stream",
     "text": [
      "1400\n"
     ]
    }
   ],
   "source": [
    "#Electricity Bill Calculator\n",
    "u=int(input())\n",
    "if u<100:\n",
    "    print(u*5)\n",
    "elif u>100 and u<=200:\n",
    "    print(u*7)\n",
    "else:\n",
    "    print(u*10)"
   ]
  },
  {
   "cell_type": "code",
   "execution_count": null,
   "id": "8e2471b1",
   "metadata": {},
   "outputs": [],
   "source": []
  }
 ],
 "metadata": {
  "kernelspec": {
   "display_name": "Python 3",
   "language": "python",
   "name": "python3"
  },
  "language_info": {
   "codemirror_mode": {
    "name": "ipython",
    "version": 3
   },
   "file_extension": ".py",
   "mimetype": "text/x-python",
   "name": "python",
   "nbconvert_exporter": "python",
   "pygments_lexer": "ipython3",
   "version": "3.11.0"
  }
 },
 "nbformat": 4,
 "nbformat_minor": 5
}
