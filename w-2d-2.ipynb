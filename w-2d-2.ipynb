{
 "cells": [
  {
   "cell_type": "code",
   "execution_count": 96,
   "id": "254ce09f",
   "metadata": {},
   "outputs": [
    {
     "name": "stdout",
     "output_type": "stream",
     "text": [
      "8\n"
     ]
    }
   ],
   "source": [
    "#Count of words in a Text File\n",
    "def cw():\n",
    "    with open('f1.txt','r') as file:\n",
    "        f=file.read().split()\n",
    "        print(len(f))\n",
    "cw()"
   ]
  },
  {
   "cell_type": "code",
   "execution_count": 8,
   "id": "2c21dbf1",
   "metadata": {},
   "outputs": [
    {
     "data": {
      "text/plain": [
       "True"
      ]
     },
     "execution_count": 8,
     "metadata": {},
     "output_type": "execute_result"
    }
   ],
   "source": [
    "#Strong Password \n",
    "def check(p):\n",
    "    c='ABCDEFGHIJKLMNOPQRSTUVWXYZ'\n",
    "    s='qwertyuiopasdfghjklzxcvbnm'\n",
    "    n='123456789'\n",
    "    sp='@_-'\n",
    "    hc,hs,hs,hn=False,False,False,False\n",
    "    if len(p)<8:\n",
    "        return False\n",
    "    for ch in p:\n",
    "        if (ch in c):\n",
    "            hc=True \n",
    "        elif (ch in s):\n",
    "            hs=True\n",
    "        elif(ch in sp):\n",
    "            hsp=True\n",
    "        elif(ch in n):\n",
    "            hn=True\n",
    "            \n",
    "    return hc and hs and hn and hsp\n",
    "p=input()\n",
    "check(p)\n",
    "\n",
    "        "
   ]
  },
  {
   "cell_type": "code",
   "execution_count": 12,
   "id": "f6a5e744",
   "metadata": {},
   "outputs": [
    {
     "data": {
      "text/plain": [
       "2.0"
      ]
     },
     "execution_count": 12,
     "metadata": {},
     "output_type": "execute_result"
    }
   ],
   "source": [
    "#Calculator\n",
    "def cal(op,n1,n2):\n",
    "    if op=='+':\n",
    "        return n1+n2\n",
    "    if op=='-':\n",
    "        return n1-n2\n",
    "    if op=='*':\n",
    "        return n1*n2\n",
    "    if op=='/':\n",
    "        if n2>0:\n",
    "            return n1/n2\n",
    "        else:\n",
    "            return \"Can't Divide with zero\"\n",
    "op=input()\n",
    "n1=int(input())\n",
    "n2=int(input())\n",
    "cal(op,n1,n2)\n",
    "\n",
    "    "
   ]
  },
  {
   "cell_type": "code",
   "execution_count": 25,
   "id": "fd9d431c",
   "metadata": {},
   "outputs": [
    {
     "data": {
      "text/plain": [
       "('Duplicates are', ['n'])"
      ]
     },
     "execution_count": 25,
     "metadata": {},
     "output_type": "execute_result"
    }
   ],
   "source": [
    "#Find Duplicate\n",
    "def find(l):\n",
    "    s=set(l)\n",
    "    #u=[set(l)-s]\n",
    "    if len(l)==len(s):\n",
    "        return \"No Duplicate\"\n",
    "    else:\n",
    "        u=[x for x in s if l.count(x)>1]\n",
    "        return \"Duplicates are\",u\n",
    "l=input().split()\n",
    "find(l)"
   ]
  },
  {
   "cell_type": "code",
   "execution_count": 26,
   "id": "5367115b",
   "metadata": {},
   "outputs": [
    {
     "data": {
      "text/plain": [
       "0.5555555555555556"
      ]
     },
     "execution_count": 26,
     "metadata": {},
     "output_type": "execute_result"
    }
   ],
   "source": [
    "#Temperature Converter\n",
    "def temp(n,t):\n",
    "    if t=='c':\n",
    "        f=(n*9/5)+32\n",
    "        return f\n",
    "    if t=='f':\n",
    "        c=(n-32)*5/9\n",
    "        return c\n",
    "n=int(input())\n",
    "t=input()\n",
    "temp(n,t)\n"
   ]
  },
  {
   "cell_type": "code",
   "execution_count": 27,
   "id": "9370cec5",
   "metadata": {},
   "outputs": [
    {
     "data": {
      "text/plain": [
       "56"
      ]
     },
     "execution_count": 27,
     "metadata": {},
     "output_type": "execute_result"
    }
   ],
   "source": [
    "#Largest Number\n",
    "def large(l):\n",
    "    return max(l)\n",
    "l=list(map(int,input().split()))\n",
    "large(l)"
   ]
  },
  {
   "cell_type": "code",
   "execution_count": 28,
   "id": "0317e023",
   "metadata": {},
   "outputs": [
    {
     "data": {
      "text/plain": [
       "60.0"
      ]
     },
     "execution_count": 28,
     "metadata": {},
     "output_type": "execute_result"
    }
   ],
   "source": [
    "#Simple Intrest\n",
    "def si(p,t,r):\n",
    "    return (p*t*r)/100\n",
    "p=int(input())\n",
    "t=int(input())\n",
    "r=int(input())\n",
    "si(p,t,r)\n",
    "\n"
   ]
  },
  {
   "cell_type": "code",
   "execution_count": null,
   "id": "c3d6955a",
   "metadata": {},
   "outputs": [
    {
     "data": {
      "text/plain": [
       "['gaya', 'teja']"
      ]
     },
     "execution_count": 34,
     "metadata": {},
     "output_type": "execute_result"
    }
   ],
   "source": [
    "#find defaulters (<75%)\n",
    "def att(d):\n",
    "    re=[]\n",
    "    for n,i in d.items():\n",
    "        if i<75:\n",
    "            re.append(n)\n",
    "    return re\n",
    "d=eval(input())\n",
    "att(d)"
   ]
  },
  {
   "cell_type": "code",
   "execution_count": 39,
   "id": "427e5d98",
   "metadata": {},
   "outputs": [
    {
     "data": {
      "text/plain": [
       "6"
      ]
     },
     "execution_count": 39,
     "metadata": {},
     "output_type": "execute_result"
    }
   ],
   "source": [
    "#sum of digits\n",
    "def sod(n):\n",
    "    c=0\n",
    "    while n>0:\n",
    "        x=n%10\n",
    "        c=c+x\n",
    "        n=n//10\n",
    "    return c\n",
    "n=int(input())\n",
    "sod(n)\n",
    "\n"
   ]
  },
  {
   "cell_type": "code",
   "execution_count": null,
   "id": "ed63a933",
   "metadata": {},
   "outputs": [
    {
     "data": {
      "text/plain": [
       "True"
      ]
     },
     "execution_count": 46,
     "metadata": {},
     "output_type": "execute_result"
    }
   ],
   "source": [
    "#Checking Prime or not\n",
    "def is_prime(n):\n",
    "    c=0\n",
    "    for i in range(1,n+1):\n",
    "        if n%i==0:\n",
    "            c=c+1\n",
    "    if c==2:\n",
    "        return True\n",
    "            \n",
    "n=int(input())\n",
    "is_prime(n)"
   ]
  },
  {
   "cell_type": "code",
   "execution_count": null,
   "id": "87e4108a",
   "metadata": {},
   "outputs": [
    {
     "data": {
      "text/plain": [
       "('Maximum', 76, 'Minimum', 3)"
      ]
     },
     "execution_count": 47,
     "metadata": {},
     "output_type": "execute_result"
    }
   ],
   "source": [
    "#Largest and smallest Number\n",
    "def maxmin(l):\n",
    "    return \"Maximum\",max(l),\"Minimum\",min(l)\n",
    "l=list(map(int,input().split()))\n",
    "large(l)\n",
    "#12 3 4 15 76 24"
   ]
  },
  {
   "cell_type": "code",
   "execution_count": 50,
   "id": "b792a5d2",
   "metadata": {},
   "outputs": [
    {
     "name": "stdout",
     "output_type": "stream",
     "text": [
      "{'i1': 80, 'i2': 40, 'i3': 50}\n"
     ]
    },
    {
     "data": {
      "text/plain": [
       "170"
      ]
     },
     "execution_count": 50,
     "metadata": {},
     "output_type": "execute_result"
    }
   ],
   "source": [
    "#Calculate bill\n",
    "def bill(d):\n",
    "    print(d)\n",
    "    return sum(d.values())\n",
    "d=eval(input())\n",
    "bill(d)\n",
    "#{'i1':80,'i2':40,'i3':50}"
   ]
  },
  {
   "cell_type": "code",
   "execution_count": null,
   "id": "98484d00",
   "metadata": {},
   "outputs": [
    {
     "data": {
      "text/plain": [
       "(21, 'is largest')"
      ]
     },
     "execution_count": 53,
     "metadata": {},
     "output_type": "execute_result"
    }
   ],
   "source": [
    "#Largest in 3 numbers\n",
    "def max(n1,n2,n3):\n",
    "    if n1>n2 and n1>n3:\n",
    "        return n1,\"is largest\"\n",
    "    elif n2>n3:\n",
    "        return n2,\"is largest\"\n",
    "    else:\n",
    "        return n3,\"is largest\"\n",
    "n1,n2,n3=map(int,input().split())\n",
    "max(n1,n2,n3)\n",
    "#19 20 21"
   ]
  },
  {
   "cell_type": "code",
   "execution_count": 55,
   "id": "6810276e",
   "metadata": {},
   "outputs": [
    {
     "data": {
      "text/plain": [
       "Counter({'a': 3,\n",
       "         'i': 2,\n",
       "         ' ': 2,\n",
       "         'm': 1,\n",
       "         'g': 1,\n",
       "         'y': 1,\n",
       "         't': 1,\n",
       "         'h': 1,\n",
       "         'r': 1})"
      ]
     },
     "execution_count": 55,
     "metadata": {},
     "output_type": "execute_result"
    }
   ],
   "source": [
    "#Frequency of Char\n",
    "from collections import Counter\n",
    "def freq(s):\n",
    "    f=Counter(s)\n",
    "    return f\n",
    "s=input()\n",
    "freq(s)"
   ]
  },
  {
   "cell_type": "code",
   "execution_count": null,
   "id": "57aba18b",
   "metadata": {},
   "outputs": [
    {
     "data": {
      "text/plain": [
       "2080"
      ]
     },
     "execution_count": 63,
     "metadata": {},
     "output_type": "execute_result"
    }
   ],
   "source": [
    "#Electricity Bill\n",
    "def ebill(u):\n",
    "    bill=0\n",
    "    if u<=100:\n",
    "        bill=u*5\n",
    "    elif u>100 and u<=200:\n",
    "        bill=u*7\n",
    "    else:\n",
    "        bill=u*10\n",
    "    return bill\n",
    "u=int(input())\n",
    "ebill(u)\n",
    "#208"
   ]
  },
  {
   "cell_type": "code",
   "execution_count": null,
   "id": "6216ce55",
   "metadata": {},
   "outputs": [
    {
     "data": {
      "text/plain": [
       "['dr', 'gt', 'kl', 'mu', 'sp']"
      ]
     },
     "execution_count": 65,
     "metadata": {},
     "output_type": "execute_result"
    }
   ],
   "source": [
    "#Sorting\n",
    "def sort(l):\n",
    "    return sorted(l)\n",
    "l=input().split()\n",
    "sort(l)\n",
    "#gt kl dr mu sp"
   ]
  },
  {
   "cell_type": "code",
   "execution_count": null,
   "id": "55b8de8f",
   "metadata": {},
   "outputs": [
    {
     "name": "stdout",
     "output_type": "stream",
     "text": [
      "<class 'int'>\n"
     ]
    },
    {
     "data": {
      "text/plain": [
       "4321"
      ]
     },
     "execution_count": 68,
     "metadata": {},
     "output_type": "execute_result"
    }
   ],
   "source": [
    "#Reverse of Number\n",
    "def reverse(n):\n",
    "    s=str(n)\n",
    "    o=int(s[::-1])\n",
    "    print(type(o))\n",
    "    return o\n",
    "n= int(input())\n",
    "reverse(n)\n",
    "#1234\n"
   ]
  },
  {
   "cell_type": "code",
   "execution_count": null,
   "id": "effff2e7",
   "metadata": {},
   "outputs": [
    {
     "data": {
      "text/plain": [
       "('Positive', 4, 'Negative', 3, 'Zero', 2)"
      ]
     },
     "execution_count": 70,
     "metadata": {},
     "output_type": "execute_result"
    }
   ],
   "source": [
    "#Count of +,-,0\n",
    "def cou(l):\n",
    "    p,n,z=0,0,0\n",
    "    for i in l:\n",
    "        if i>0:\n",
    "            p=p+1\n",
    "        elif i<0:\n",
    "            n=n+1\n",
    "        else:\n",
    "            z=z+1\n",
    "    return \"Positive\",p,\"Negative\",n,\"Zero\",z\n",
    "l=list(map(int,input().split()))\n",
    "cou(l)\n",
    "#[1,2,3,4,-1,-2,-3,0,0]"
   ]
  },
  {
   "cell_type": "code",
   "execution_count": 72,
   "id": "419d3a2e",
   "metadata": {},
   "outputs": [
    {
     "data": {
      "text/plain": [
       "'Attempts are Done'"
      ]
     },
     "execution_count": 72,
     "metadata": {},
     "output_type": "execute_result"
    }
   ],
   "source": [
    "#Correct Pin\n",
    "def cpin(p1):\n",
    "    for _ in range(3):\n",
    "        p2=int(input())\n",
    "        if p1==p2:\n",
    "            return \"True\"\n",
    "    else:\n",
    "        return \"Attempts are Done\"\n",
    "p1=int(input())\n",
    "cpin(p1)\n",
    "\n"
   ]
  },
  {
   "cell_type": "code",
   "execution_count": null,
   "id": "d10d5254",
   "metadata": {},
   "outputs": [
    {
     "data": {
      "text/plain": [
       "\"can't Divide\""
      ]
     },
     "execution_count": 74,
     "metadata": {},
     "output_type": "execute_result"
    }
   ],
   "source": [
    "#Try-Except\n",
    "def divide(a,b):\n",
    "    try:\n",
    "        re=a/b\n",
    "        return re\n",
    "    except:\n",
    "        return \"can't Divide\"\n",
    "a=int(input())\n",
    "b=int(input())\n",
    "divide(a,b)\n"
   ]
  },
  {
   "cell_type": "code",
   "execution_count": null,
   "id": "d658a16f",
   "metadata": {},
   "outputs": [
    {
     "name": "stdout",
     "output_type": "stream",
     "text": [
      "Invalid Input\n"
     ]
    }
   ],
   "source": [
    "#Try-Except(2)\n",
    "def divide(a,b):\n",
    "    try:\n",
    "        re=int(a)/int(b)\n",
    "        return re\n",
    "    except ZeroDivisionError:\n",
    "        return \"can't Divide\"\n",
    "    except ValueError:\n",
    "        print(\"Invalid Input\")\n",
    "a=input()\n",
    "b=input()\n",
    "divide(a,b)"
   ]
  },
  {
   "cell_type": "code",
   "execution_count": null,
   "id": "25a34dc8",
   "metadata": {},
   "outputs": [
    {
     "data": {
      "text/plain": [
       "-8000"
      ]
     },
     "execution_count": 85,
     "metadata": {},
     "output_type": "execute_result"
    }
   ],
   "source": [
    "#Withdrawl Amount\n",
    "def withdrawl(bal,a):\n",
    "    try:\n",
    "        #if bal>a:\n",
    "        return bal-a\n",
    "    except:\n",
    "        return \"Insufficient balance\"\n",
    "bal=int(input())\n",
    "a=int(input())\n",
    "withdrawl(bal,a)"
   ]
  },
  {
   "cell_type": "code",
   "execution_count": null,
   "id": "de34825d",
   "metadata": {},
   "outputs": [
    {
     "name": "stdout",
     "output_type": "stream",
     "text": [
      "Bill processing finished\n"
     ]
    },
    {
     "data": {
      "text/plain": [
       "100000"
      ]
     },
     "execution_count": 95,
     "metadata": {},
     "output_type": "execute_result"
    }
   ],
   "source": [
    "#Electricity Bill(Using try-except-finally)\n",
    "def Ebil(u):\n",
    "    try:\n",
    "        bill=0\n",
    "        if int(u)<=100:\n",
    "            bill=int(u)*5\n",
    "        elif int(u)>100 and int(u)<=200:\n",
    "            bill=int(u)*7\n",
    "        else:\n",
    "            bill=int(u)*10\n",
    "        return bill\n",
    "    except ValueError:\n",
    "        print(\"Invalid Input\")\n",
    "    finally:\n",
    "        print(\"Bill processing finished\")\n",
    "a=input()\n",
    "Ebil(a)"
   ]
  }
 ],
 "metadata": {
  "kernelspec": {
   "display_name": "Python 3",
   "language": "python",
   "name": "python3"
  },
  "language_info": {
   "codemirror_mode": {
    "name": "ipython",
    "version": 3
   },
   "file_extension": ".py",
   "mimetype": "text/x-python",
   "name": "python",
   "nbconvert_exporter": "python",
   "pygments_lexer": "ipython3",
   "version": "3.11.0"
  }
 },
 "nbformat": 4,
 "nbformat_minor": 5
}
