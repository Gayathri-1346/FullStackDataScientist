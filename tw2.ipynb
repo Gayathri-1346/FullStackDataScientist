{
 "cells": [
  {
   "cell_type": "code",
   "execution_count": null,
   "id": "c06909f6",
   "metadata": {},
   "outputs": [
    {
     "name": "stdout",
     "output_type": "stream",
     "text": [
      "Total Bill: 260\n"
     ]
    }
   ],
   "source": [
    "#Total Cart\n",
    "i1,q1=map(int,input().split())\n",
    "i2,q2=map(int,input().split())\n",
    "i3,q3=map(int,input().split())\n",
    "tb=i1*q1+i2*q2+i3*q3\n",
    "print(f\"Total Bill: {tb}\")\n",
    "\n",
    "\n",
    "\n"
   ]
  },
  {
   "cell_type": "code",
   "execution_count": null,
   "id": "1768786e",
   "metadata": {},
   "outputs": [
    {
     "name": "stdout",
     "output_type": "stream",
     "text": [
      "Addition: 19\n",
      "Subtraction 11\n",
      "Multiplication 60\n",
      "Division 3.75\n",
      "Modulus 3\n"
     ]
    }
   ],
   "source": [
    "#Calculator\n",
    "n1=int(input())\n",
    "n2=int(input())\n",
    "print(\"Addition:\",n1+n2)\n",
    "print(\"Subtraction\",n1-n2)\n",
    "print(\"Multiplication\",n1*n2)\n",
    "if n2>0:\n",
    "    print(\"Division\",n1/n2)\n",
    "    print(\"Modulus\",n1%n2)\n",
    "else:\n",
    "    print(\"n2 is invalid\")\n"
   ]
  },
  {
   "cell_type": "code",
   "execution_count": 12,
   "id": "d3c985af",
   "metadata": {},
   "outputs": [
    {
     "name": "stdout",
     "output_type": "stream",
     "text": [
      "Fail\n"
     ]
    }
   ],
   "source": [
    "#Grade of marks\n",
    "m=int(input())\n",
    "if m>=90 :\n",
    "    print(\"A+\")\n",
    "elif m>=80 and m<89:\n",
    "    print(\"A\")\n",
    "elif m>=70 and m<79:\n",
    "    print(\"B\") \n",
    "elif m>=60 and m<69:\n",
    "    print(\"C\")        \n",
    "elif m<60:\n",
    "    print(\"Fail\")\n",
    "else:\n",
    "    print(\"invalid\")  \n",
    "\n",
    "\n"
   ]
  },
  {
   "cell_type": "code",
   "execution_count": null,
   "id": "6af947dc",
   "metadata": {},
   "outputs": [
    {
     "name": "stdout",
     "output_type": "stream",
     "text": [
      "Highest Marks 90\n",
      "Lowest Marks 45\n",
      "Average Marks 71.4\n"
     ]
    }
   ],
   "source": [
    "#List op\n",
    "l=list(map(int,input().split()))\n",
    "print(\"Highest Marks\",max(l))\n",
    "print(\"Lowest Marks\",min(l))\n",
    "print(\"Average Marks\",(sum(l)/len(l)))"
   ]
  },
  {
   "cell_type": "code",
   "execution_count": null,
   "id": "65b83b22",
   "metadata": {},
   "outputs": [
    {
     "name": "stdout",
     "output_type": "stream",
     "text": [
      "346746\n"
     ]
    }
   ],
   "source": [
    "#Search in Dictionary\n",
    "n=int(input())\n",
    "dic={}\n",
    "for _ in range(n):\n",
    "    ke=input()\n",
    "    va=int(input())\n",
    "    dic[ke]=va\n",
    "s=input(\"Search Name\")\n",
    "\n",
    "print(dic.get(s))"
   ]
  },
  {
   "cell_type": "code",
   "execution_count": 25,
   "id": "3af7eaf9",
   "metadata": {},
   "outputs": [
    {
     "name": "stdout",
     "output_type": "stream",
     "text": [
      "Total Words = 3\n",
      "Total Characters = 15\n",
      "Total Vowels = 6\n"
     ]
    }
   ],
   "source": [
    "#Count words, characters, and vowels in a sentence\n",
    "s = input(\"Enter sentence: \")\n",
    "words = s.split()\n",
    "total_words = len(words)\n",
    "total_characters = len(s.replace(\" \", \"\"))\n",
    "vowels = \"aeiou\"\n",
    "total_vowels = sum(1 for ch in s.lower() if ch in vowels)\n",
    "print(\"Total Words =\", total_words)\n",
    "print(\"Total Characters =\", total_characters)\n",
    "print(\"Total Vowels =\", total_vowels)\n"
   ]
  },
  {
   "cell_type": "code",
   "execution_count": null,
   "id": "3f94d6d0",
   "metadata": {},
   "outputs": [
    {
     "name": "stdout",
     "output_type": "stream",
     "text": [
      "Compound Intrest 512.5000000000002\n",
      "Total Amount5512.5\n"
     ]
    }
   ],
   "source": [
    "#Compund Intrest\n",
    "p=float(input(\"Principal\"))\n",
    "r=float(input(\"Rate\"))\n",
    "t=float(input(\"Time\"))\n",
    "i=input(\"Intrest Type\").lower()\n",
    "if i == \"compound\":\n",
    "    c=p*(((1+r/100)**t)-1)\n",
    "    print(f\"Compound Intrest={c}\")\n",
    "    print(f\"Total Amount={p+c}\")"
   ]
  },
  {
   "cell_type": "code",
   "execution_count": null,
   "id": "6aff49e6",
   "metadata": {},
   "outputs": [
    {
     "name": "stdout",
     "output_type": "stream",
     "text": [
      "KHOOR\n"
     ]
    }
   ],
   "source": [
    "#Shifting of Strings\n",
    "s=input(\"Message=\")\n",
    "n=int(input(\"Shift=\"))\n",
    "r=[]\n",
    "l=[]\n",
    "for ch in list(s):\n",
    "    r.append(ord(ch)+3)\n",
    "for i in r:\n",
    "    l.append(chr(i))\n",
    "re = \"\".join(l)\n",
    "print(re)\n",
    "\n",
    "\n"
   ]
  },
  {
   "cell_type": "code",
   "execution_count": null,
   "id": "0b3b0efb",
   "metadata": {},
   "outputs": [
    {
     "name": "stdout",
     "output_type": "stream",
     "text": [
      "PIN Verified.\n",
      "Withdrawal Successful. Remaining Balance 2000\n"
     ]
    }
   ],
   "source": [
    "#ATM Withdrawl\n",
    "p=int(input(\"PIN=\"))\n",
    "b=int(input(\"Balance=\"))\n",
    "w=int(input(\"Withdraw=\"))\n",
    "if p== 1234:\n",
    "    print(\"PIN Verified.\")\n",
    "    if b>w:\n",
    "        print(\"Withdrawal Successful. Remaining Balance\",b-w)\n",
    "    else:\n",
    "        print(\"Insufficient Balance\")\n",
    "else:\n",
    "    print(\"Invalid PIN\")"
   ]
  },
  {
   "cell_type": "code",
   "execution_count": null,
   "id": "5591abf1",
   "metadata": {},
   "outputs": [
    {
     "name": "stdout",
     "output_type": "stream",
     "text": [
      "Current Boks ['PythonBasics', 'AIFundamentals', 'ML']\n",
      "Total Books 3\n"
     ]
    }
   ],
   "source": [
    "#Storing Books\n",
    "b= input(\"Books=\").split()\n",
    "ab=input(\"Add Book:\")\n",
    "rb=input(\"Remove Book:\")\n",
    "b.append(ab)\n",
    "b.remove(rb)\n",
    "print(\"Current Boks\",b)\n",
    "print(\"Total Books\",len(b))\n"
   ]
  },
  {
   "cell_type": "code",
   "execution_count": null,
   "id": "c7f5c68f",
   "metadata": {},
   "outputs": [],
   "source": [
    "\n"
   ]
  }
 ],
 "metadata": {
  "kernelspec": {
   "display_name": "Python 3",
   "language": "python",
   "name": "python3"
  },
  "language_info": {
   "codemirror_mode": {
    "name": "ipython",
    "version": 3
   },
   "file_extension": ".py",
   "mimetype": "text/x-python",
   "name": "python",
   "nbconvert_exporter": "python",
   "pygments_lexer": "ipython3",
   "version": "3.11.0"
  }
 },
 "nbformat": 4,
 "nbformat_minor": 5
}
