{
 "cells": [
  {
   "cell_type": "code",
   "execution_count": 5,
   "id": "7940dc98",
   "metadata": {},
   "outputs": [
    {
     "name": "stdout",
     "output_type": "stream",
     "text": [
      "[2, 3, 5, 7, 11, 13, 17, 19]\n"
     ]
    }
   ],
   "source": [
    "#Prime FInder\n",
    "def primeFinder(n):\n",
    "    l=[]\n",
    "    #n=int(input())\n",
    "    for i in range(2,n):\n",
    "        c=0\n",
    "        for j in range(1,i+1):\n",
    "            if i%j==0:\n",
    "                c=c+1\n",
    "        if c==2:\n",
    "            l.append(i)\n",
    "    return l\n",
    "print(primeFinder(20))\n",
    "\n",
    "\n",
    "                \n",
    "\n"
   ]
  },
  {
   "cell_type": "code",
   "execution_count": 14,
   "id": "1866c8d0",
   "metadata": {},
   "outputs": [
    {
     "data": {
      "text/plain": [
       "True"
      ]
     },
     "execution_count": 14,
     "metadata": {},
     "output_type": "execute_result"
    }
   ],
   "source": [
    "#Palindrome Checker\n",
    "def palindromeChecker(s):\n",
    "    s=s.lower()\n",
    "    str=s.replace(\" \",\"\")\n",
    "    return str==str[::-1]\n",
    "palindromeChecker(\"Never odd or even\")\n",
    "    \n"
   ]
  },
  {
   "cell_type": "code",
   "execution_count": 17,
   "id": "92477e4f",
   "metadata": {},
   "outputs": [
    {
     "data": {
      "text/plain": [
       "True"
      ]
     },
     "execution_count": 17,
     "metadata": {},
     "output_type": "execute_result"
    }
   ],
   "source": [
    "#Anagram Checker\n",
    "def anagramChecker(s1,s2):\n",
    "    s1=s1.lower()\n",
    "    s2=s2.lower()\n",
    "    return sorted(s1)==sorted(s2)\n",
    "anagramChecker(\"listen\", \"silent\")\n",
    "\n"
   ]
  },
  {
   "cell_type": "code",
   "execution_count": 22,
   "id": "5f6f8a18",
   "metadata": {},
   "outputs": [
    {
     "data": {
      "text/plain": [
       "('Vowels=', 2, 'Consonants=', 3)"
      ]
     },
     "execution_count": 22,
     "metadata": {},
     "output_type": "execute_result"
    }
   ],
   "source": [
    "#Count of Vowels and Consonants\n",
    "def count(s):\n",
    "    v='aeiou'\n",
    "    s=s.lower()\n",
    "    vc=0\n",
    "    cc=0\n",
    "    for ch in s:\n",
    "        if ch in v:\n",
    "            vc=vc+1\n",
    "        else:\n",
    "            cc=cc+1\n",
    "    return \"Vowels=\",vc,\"Consonants=\",cc\n",
    "count(\"hello\")"
   ]
  },
  {
   "cell_type": "code",
   "execution_count": null,
   "id": "95b2524c",
   "metadata": {},
   "outputs": [
    {
     "data": {
      "text/plain": [
       "'amazing'"
      ]
     },
     "execution_count": 25,
     "metadata": {},
     "output_type": "execute_result"
    }
   ],
   "source": [
    "#Longest Word\n",
    "def longWord(s):\n",
    "    w=s.split()\n",
    "    l=max(w,key=len)\n",
    "    return l\n",
    "longWord(\"Python is amazing\")\n"
   ]
  },
  {
   "cell_type": "code",
   "execution_count": 32,
   "id": "085bac8c",
   "metadata": {},
   "outputs": [
    {
     "data": {
      "text/plain": [
       "'w0geca<m['"
      ]
     },
     "execution_count": 32,
     "metadata": {},
     "output_type": "execute_result"
    }
   ],
   "source": [
    "#Random Password Generator\n",
    "import random\n",
    "import string\n",
    "def randomPass(n):\n",
    "    pa=string.ascii_letters+string.digits+string.punctuation\n",
    "    return ''.join(random.choice(pa) for _ in range(n))\n",
    "n=int(input())\n",
    "randomPass(n)"
   ]
  },
  {
   "cell_type": "code",
   "execution_count": 40,
   "id": "801dbea2",
   "metadata": {},
   "outputs": [
    {
     "data": {
      "text/plain": [
       "0.848048096156426"
      ]
     },
     "execution_count": 40,
     "metadata": {},
     "output_type": "execute_result"
    }
   ],
   "source": [
    "#Math Module\n",
    "import math\n",
    "def mathOp(s,n):\n",
    "    s=s.lower()\n",
    "    a=math.radians(n)\n",
    "    if s=='sqrt':\n",
    "        return math.sqrt(n)\n",
    "    if s=='sin':\n",
    "        return math.sin(a)\n",
    "    if s=='fact':\n",
    "        return math.factorial(n)\n",
    "    if s=='cos':\n",
    "        return math.cos(a)\n",
    "s=input()\n",
    "n=int(input())\n",
    "mathOp(s,n)"
   ]
  },
  {
   "cell_type": "code",
   "execution_count": 43,
   "id": "fc212763",
   "metadata": {},
   "outputs": [
    {
     "data": {
      "text/plain": [
       "Counter({'cat': 2, 'dog': 1})"
      ]
     },
     "execution_count": 43,
     "metadata": {},
     "output_type": "execute_result"
    }
   ],
   "source": [
    "#Word Frequency Counter\n",
    "from collections import Counter\n",
    "def wordFreq(s):\n",
    "    l={}\n",
    "    s=s.lower()\n",
    "    w=s.split()\n",
    "    return Counter(w)\n",
    "s=input()\n",
    "wordFreq(s)\n"
   ]
  },
  {
   "cell_type": "code",
   "execution_count": 54,
   "id": "3cc5f4b9",
   "metadata": {},
   "outputs": [
    {
     "data": {
      "text/plain": [
       "('Weather', 'Sunny', 'Temp:', 27)"
      ]
     },
     "execution_count": 54,
     "metadata": {},
     "output_type": "execute_result"
    }
   ],
   "source": [
    "#Weather Simulator\n",
    "import random\n",
    "import string\n",
    "def weatherSimulator():\n",
    "    w=['Sunny','Rainy','Snowy']\n",
    "    te=random.randint(-5,40)\n",
    "    return \"Weather\",random.choice(w),\"Temp:\",te\n",
    "weatherSimulator()"
   ]
  },
  {
   "cell_type": "code",
   "execution_count": 51,
   "id": "1e6094a5",
   "metadata": {},
   "outputs": [
    {
     "name": "stdout",
     "output_type": "stream",
     "text": [
      "5\n",
      "4\n",
      "3\n",
      "2\n",
      "1\n",
      "Time Up!!\n"
     ]
    }
   ],
   "source": [
    "#Timer Program\n",
    "import time\n",
    "def ti(n):\n",
    "    for i in range(n,0,-1):\n",
    "        print(i)\n",
    "        time.sleep(1)\n",
    "    print(\"Time Up!!\")\n",
    "n=int(input())\n",
    "ti(n)"
   ]
  },
  {
   "cell_type": "code",
   "execution_count": null,
   "id": "eac37827",
   "metadata": {},
   "outputs": [],
   "source": []
  }
 ],
 "metadata": {
  "kernelspec": {
   "display_name": "Python 3",
   "language": "python",
   "name": "python3"
  },
  "language_info": {
   "codemirror_mode": {
    "name": "ipython",
    "version": 3
   },
   "file_extension": ".py",
   "mimetype": "text/x-python",
   "name": "python",
   "nbconvert_exporter": "python",
   "pygments_lexer": "ipython3",
   "version": "3.11.0"
  }
 },
 "nbformat": 4,
 "nbformat_minor": 5
}
