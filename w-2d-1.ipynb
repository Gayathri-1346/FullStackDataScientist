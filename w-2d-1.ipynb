{
 "cells": [
  {
   "cell_type": "code",
   "execution_count": 5,
   "id": "7940dc98",
   "metadata": {},
   "outputs": [
    {
     "name": "stdout",
     "output_type": "stream",
     "text": [
      "[2, 3, 5, 7, 11, 13, 17, 19]\n"
     ]
    }
   ],
   "source": [
    "#Prime FInder\n",
    "def primeFinder(n):\n",
    "    l=[]\n",
    "    #n=int(input())\n",
    "    for i in range(2,n):\n",
    "        c=0\n",
    "        for j in range(1,i+1):\n",
    "            if i%j==0:\n",
    "                c=c+1\n",
    "        if c==2:\n",
    "            l.append(i)\n",
    "    return l\n",
    "print(primeFinder(20))\n",
    "\n",
    "\n",
    "                \n",
    "\n"
   ]
  },
  {
   "cell_type": "code",
   "execution_count": 14,
   "id": "1866c8d0",
   "metadata": {},
   "outputs": [
    {
     "data": {
      "text/plain": [
       "True"
      ]
     },
     "execution_count": 14,
     "metadata": {},
     "output_type": "execute_result"
    }
   ],
   "source": [
    "#Palindrome Checker\n",
    "def palindromeChecker(s):\n",
    "    s=s.lower()\n",
    "    str=s.replace(\" \",\"\")\n",
    "    return str==str[::-1]\n",
    "palindromeChecker(\"Never odd or even\")\n",
    "    \n"
   ]
  },
  {
   "cell_type": "code",
   "execution_count": 17,
   "id": "92477e4f",
   "metadata": {},
   "outputs": [
    {
     "data": {
      "text/plain": [
       "True"
      ]
     },
     "execution_count": 17,
     "metadata": {},
     "output_type": "execute_result"
    }
   ],
   "source": [
    "#Anagram Checker\n",
    "def anagramChecker(s1,s2):\n",
    "    s1=s1.lower()\n",
    "    s2=s2.lower()\n",
    "    return sorted(s1)==sorted(s2)\n",
    "anagramChecker(\"listen\", \"silent\")\n",
    "\n"
   ]
  },
  {
   "cell_type": "code",
   "execution_count": 22,
   "id": "5f6f8a18",
   "metadata": {},
   "outputs": [
    {
     "data": {
      "text/plain": [
       "('Vowels=', 2, 'Consonants=', 3)"
      ]
     },
     "execution_count": 22,
     "metadata": {},
     "output_type": "execute_result"
    }
   ],
   "source": [
    "#Count of Vowels and Consonants\n",
    "def count(s):\n",
    "    v='aeiou'\n",
    "    s=s.lower()\n",
    "    vc=0\n",
    "    cc=0\n",
    "    for ch in s:\n",
    "        if ch in v:\n",
    "            vc=vc+1\n",
    "        else:\n",
    "            cc=cc+1\n",
    "    return \"Vowels=\",vc,\"Consonants=\",cc\n",
    "count(\"hello\")"
   ]
  },
  {
   "cell_type": "code",
   "execution_count": null,
   "id": "95b2524c",
   "metadata": {},
   "outputs": [
    {
     "data": {
      "text/plain": [
       "'amazing'"
      ]
     },
     "execution_count": 25,
     "metadata": {},
     "output_type": "execute_result"
    }
   ],
   "source": [
    "#Longest Word\n",
    "def longWord(s):\n",
    "    w=s.split()\n",
    "    l=max(w,key=len)\n",
    "    return l\n",
    "longWord(\"Python is amazing\")\n"
   ]
  },
  {
   "cell_type": "code",
   "execution_count": null,
   "id": "085bac8c",
   "metadata": {},
   "outputs": [
    {
     "data": {
      "text/plain": [
       "'w0geca<m['"
      ]
     },
     "execution_count": 32,
     "metadata": {},
     "output_type": "execute_result"
    }
   ],
   "source": [
    "#Random Password Generator\n",
    "import random\n",
    "import string\n",
    "def randomPass(n):\n",
    "    pa=string.ascii_letters+string.digits+string.punctuation\n",
    "    return ''.join(random.choice(pa) for _ in range(n))\n",
    "n=int(input())\n",
    "randomPass(n)"
   ]
  },
  {
   "cell_type": "code",
   "execution_count": 40,
   "id": "801dbea2",
   "metadata": {},
   "outputs": [
    {
     "data": {
      "text/plain": [
       "0.848048096156426"
      ]
     },
     "execution_count": 40,
     "metadata": {},
     "output_type": "execute_result"
    }
   ],
   "source": [
    "#Math Module\n",
    "import math\n",
    "def mathOp(s,n):\n",
    "    s=s.lower()\n",
    "    a=math.radians(n)\n",
    "    if s=='sqrt':\n",
    "        return math.sqrt(n)\n",
    "    if s=='sin':\n",
    "        return math.sin(a)\n",
    "    if s=='fact':\n",
    "        return math.factorial(n)\n",
    "    if s=='cos':\n",
    "        return math.cos(a)\n",
    "s=input()\n",
    "n=int(input())\n",
    "mathOp(s,n)"
   ]
  },
  {
   "cell_type": "code",
   "execution_count": 91,
   "id": "fc212763",
   "metadata": {},
   "outputs": [
    {
     "data": {
      "text/plain": [
       "Counter({'cat': 2, 'dog': 1})"
      ]
     },
     "execution_count": 91,
     "metadata": {},
     "output_type": "execute_result"
    }
   ],
   "source": [
    "#Word Frequency Counter\n",
    "from collections import Counter\n",
    "def wordFreq(s):\n",
    "    s=s.lower()\n",
    "    w=s.split()\n",
    "    return Counter(w)\n",
    "s=input()\n",
    "wordFreq(s)\n"
   ]
  },
  {
   "cell_type": "code",
   "execution_count": 54,
   "id": "3cc5f4b9",
   "metadata": {},
   "outputs": [
    {
     "data": {
      "text/plain": [
       "('Weather', 'Sunny', 'Temp:', 27)"
      ]
     },
     "execution_count": 54,
     "metadata": {},
     "output_type": "execute_result"
    }
   ],
   "source": [
    "#Weather Simulator\n",
    "import random\n",
    "import string\n",
    "def weatherSimulator():\n",
    "    w=['Sunny','Rainy','Snowy']\n",
    "    te=random.randint(-5,40)\n",
    "    return \"Weather\",random.choice(w),\"Temp:\",te\n",
    "weatherSimulator()"
   ]
  },
  {
   "cell_type": "code",
   "execution_count": 51,
   "id": "1e6094a5",
   "metadata": {},
   "outputs": [
    {
     "name": "stdout",
     "output_type": "stream",
     "text": [
      "5\n",
      "4\n",
      "3\n",
      "2\n",
      "1\n",
      "Time Up!!\n"
     ]
    }
   ],
   "source": [
    "#Timer Program\n",
    "import time\n",
    "def ti(n):\n",
    "    for i in range(n,0,-1):\n",
    "        print(i)\n",
    "        time.sleep(1)\n",
    "    print(\"Time Up!!\")\n",
    "n=int(input())\n",
    "ti(n)"
   ]
  },
  {
   "cell_type": "code",
   "execution_count": null,
   "id": "eac37827",
   "metadata": {},
   "outputs": [
    {
     "name": "stdout",
     "output_type": "stream",
     "text": [
      "120\n"
     ]
    }
   ],
   "source": [
    "#Bank Account Class\n",
    "class BankAcc:\n",
    "    def __init__(self,bal=0):\n",
    "        self.bal=bal\n",
    "    def deposit(self,a):\n",
    "        self.bal=self.bal+a\n",
    "    def withdraw(self,a):\n",
    "        if a>self.bal:\n",
    "            print(\"Insufficient balance\")\n",
    "        else:\n",
    "            self.bal=self.bal-a\n",
    "    def getBal(self):\n",
    "        return self.bal\n",
    "acc = BankAcc(100)   # initial balance = 100\n",
    "acc.deposit(50)          # balance = 150\n",
    "acc.withdraw(30)         # balance = 120\n",
    "print(acc.getBal())\n",
    "    \n",
    "        "
   ]
  },
  {
   "cell_type": "code",
   "execution_count": 66,
   "id": "025d2866",
   "metadata": {},
   "outputs": [
    {
     "name": "stdout",
     "output_type": "stream",
     "text": [
      "85.0\n",
      "95\n"
     ]
    }
   ],
   "source": [
    "#Student Class with Average\n",
    "class Stu:\n",
    "    def __init__(self,name,marks):\n",
    "        self.name=name\n",
    "        self.marks=marks\n",
    "    def avg(self):\n",
    "         return sum(self.marks)/len(self.marks)\n",
    "    def add_ma(self,n):\n",
    "        self.marks.append(n)\n",
    "    def high(self):\n",
    "        return max(self.marks)\n",
    "    def low(self):\n",
    "        return min(self.marks)\n",
    "s = Stu(\"Tom\", [90, 80, 85])\n",
    "print(s.avg())   # (90+80+85)/3 = 85.0\n",
    "s.add_ma(95)           # marks = [90,80,85,95]\n",
    "print(s.high())   # 95\n",
    "\n"
   ]
  },
  {
   "cell_type": "code",
   "execution_count": 67,
   "id": "ea0f0f2a",
   "metadata": {},
   "outputs": [
    {
     "name": "stdout",
     "output_type": "stream",
     "text": [
      "10000.0\n"
     ]
    }
   ],
   "source": [
    "#Employee Bonus System\n",
    "class Bonus:\n",
    "    def __init__(self,name,sal,ro):\n",
    "        self.name=name\n",
    "        self.sal=sal\n",
    "        self.ro=ro\n",
    "    def bonus(self):\n",
    "        if self.ro=='Manager':\n",
    "            return self.sal*(20/100)\n",
    "        if self.ro=='Developer':\n",
    "            return self.sal*(10/100)\n",
    "        if self.ro=='Intern':\n",
    "            return self.sal*(5/100)\n",
    "m = Bonus(\"Alice\", 50000,\"Manager\")\n",
    "print(m.bonus())\n",
    "        \n"
   ]
  },
  {
   "cell_type": "code",
   "execution_count": 73,
   "id": "6120bf8b",
   "metadata": {},
   "outputs": [
    {
     "name": "stdout",
     "output_type": "stream",
     "text": [
      "153.86\n",
      "20\n"
     ]
    }
   ],
   "source": [
    "# Shape Area Calculator\n",
    "class Shape:\n",
    "    def __init__(self,na):\n",
    "        self.na=na\n",
    "    class Circle:\n",
    "        def __init__(self,ra):\n",
    "            self.ra=ra\n",
    "        def area(self):\n",
    "            return 3.14*(self.ra**2)\n",
    "    class Rect:\n",
    "        def __init__(self,w,h):\n",
    "            self.w=w\n",
    "            self.h=h\n",
    "        def area(self):\n",
    "            return self.w*self.h\n",
    "c = Shape.Circle(7)\n",
    "print(c.area())\n",
    "r = Shape.Rect(4, 5)\n",
    "print(r.area())\n",
    "        "
   ]
  },
  {
   "cell_type": "code",
   "execution_count": 78,
   "id": "fe502e1c",
   "metadata": {},
   "outputs": [
    {
     "name": "stdout",
     "output_type": "stream",
     "text": [
      "2000\n"
     ]
    }
   ],
   "source": [
    "# E-commerce Order Class\n",
    "class EOrder:\n",
    "    def __init__(self):\n",
    "        self.item={}\n",
    "    def add(self,na,pr):\n",
    "        self.item[na]=pr\n",
    "    def rem(self,na):\n",
    "        del self.item[na]\n",
    "    def tot(self):\n",
    "        return sum(self.item.values())\n",
    "    def get_item(self):\n",
    "        return self.item\n",
    "order = EOrder()\n",
    "order.add(\"Shirt\", 500)\n",
    "order.add(\"Shoes\", 1500)\n",
    "print(order.tot())\n",
    "        "
   ]
  },
  {
   "cell_type": "code",
   "execution_count": 84,
   "id": "c43269a5",
   "metadata": {},
   "outputs": [
    {
     "data": {
      "text/plain": [
       "[1, 1, 2, 3, 5, 8]"
      ]
     },
     "execution_count": 84,
     "metadata": {},
     "output_type": "execute_result"
    }
   ],
   "source": [
    "#Fibonacci Generator\n",
    "def fib(n):\n",
    "    l=[]\n",
    "    if n==0 or n==1:\n",
    "        l.append(1)\n",
    "    else:\n",
    "        l=[1,1]\n",
    "        for i in range(2,n):\n",
    "\n",
    "            l.append(l[i-2]+l[i-1])\n",
    "    return l\n",
    "n=int(input())\n",
    "fib(n)\n",
    "\n",
    "    \n"
   ]
  },
  {
   "cell_type": "code",
   "execution_count": 90,
   "id": "94a65bda",
   "metadata": {},
   "outputs": [
    {
     "data": {
      "text/plain": [
       "120"
      ]
     },
     "execution_count": 90,
     "metadata": {},
     "output_type": "execute_result"
    }
   ],
   "source": [
    "#Factorial Using Recursion\n",
    "def fact(n):\n",
    "    if n==0 or n==1:\n",
    "        return 1\n",
    "    else:\n",
    "        return n*fact(n-1)\n",
    "n=int(input())\n",
    "fact(n)\n"
   ]
  },
  {
   "cell_type": "code",
   "execution_count": 94,
   "id": "1b5cc07c",
   "metadata": {},
   "outputs": [
    {
     "data": {
      "text/plain": [
       "Counter({'apple': 2, 'banana': 2, 'orange': 1})"
      ]
     },
     "execution_count": 94,
     "metadata": {},
     "output_type": "execute_result"
    }
   ],
   "source": [
    "#Unique Words Counter\n",
    "from collections import Counter\n",
    "def count(s):\n",
    "    s.lower()\n",
    "    w=s.split()\n",
    "    re=Counter(w)\n",
    "    return re\n",
    "s=input()\n",
    "count(s)\n"
   ]
  },
  {
   "cell_type": "code",
   "execution_count": 95,
   "id": "d0bb0cae",
   "metadata": {},
   "outputs": [
    {
     "data": {
      "text/plain": [
       "'A'"
      ]
     },
     "execution_count": 95,
     "metadata": {},
     "output_type": "execute_result"
    }
   ],
   "source": [
    "#Grade Calculator\n",
    "def grade(l,t):\n",
    "    s=sum(l)*t/100\n",
    "    if s>=90:\n",
    "        return 'A'\n",
    "    elif s>=80 and s<90:\n",
    "        return 'B'\n",
    "    elif s>=70 and s<80:\n",
    "        return 'C'\n",
    "    elif s>=60 and s<70:\n",
    "        return 'D'\n",
    "    else:\n",
    "        return 'Fail'\n",
    "l=list(map(int,input().split()))\n",
    "t=int(input())\n",
    "grade(l,t)\n"
   ]
  },
  {
   "cell_type": "code",
   "execution_count": null,
   "id": "90e26bc1",
   "metadata": {},
   "outputs": [
    {
     "data": {
      "text/plain": [
       "10"
      ]
     },
     "execution_count": 99,
     "metadata": {},
     "output_type": "execute_result"
    }
   ],
   "source": [
    "#Second Largest Number\n",
    "def sln(s):\n",
    "    s=sorted(s,reverse=True)\n",
    "    return s[1]\n",
    "s=list(map(int,input().split()))\n",
    "sln(s)\n"
   ]
  },
  {
   "cell_type": "code",
   "execution_count": 42,
   "id": "fec49a81",
   "metadata": {},
   "outputs": [
    {
     "name": "stdout",
     "output_type": "stream",
     "text": [
      "Text files: 2\n",
      "Python files: 2\n"
     ]
    }
   ],
   "source": [
    "#File Extension COunter\n",
    "import os\n",
    "def fec(files,ext):\n",
    "    c=0\n",
    "    for f in files:\n",
    "        if f.endswith(ext):\n",
    "            c+=1\n",
    "    return c\n",
    "files = [\"notes.txt\", \"app.py\", \"data.csv\", \"report.txt\", \"main.py\"]\n",
    "print(\"Text files:\", fec(files,\".txt\"))\n",
    "print(\"Python files:\", fec(files,\".py\"))"
   ]
  },
  {
   "cell_type": "code",
   "execution_count": 33,
   "id": "aa6d305a",
   "metadata": {},
   "outputs": [
    {
     "name": "stdout",
     "output_type": "stream",
     "text": [
      "('Mean:', 6, '\\n Median:', 6, '\\n Variance:', 0)\n"
     ]
    }
   ],
   "source": [
    "#Staticstics\n",
    "import statistics as st\n",
    "def stat(s):\n",
    "    return \"Mean:\",st.mean(s),\"\\n Median:\",st.median(s),\"\\n Variance:\",st.pvariance(s)\n",
    "s=list(map(int,input().split()))\n",
    "\n",
    "print(stat(s))\n",
    "    "
   ]
  },
  {
   "cell_type": "code",
   "execution_count": 34,
   "id": "7e154204",
   "metadata": {},
   "outputs": [
    {
     "data": {
      "text/plain": [
       "(2.0, 1.0)"
      ]
     },
     "execution_count": 34,
     "metadata": {},
     "output_type": "execute_result"
    }
   ],
   "source": [
    "#Quadratic Equation Solver\n",
    "import math\n",
    "def qua(a,b,c):\n",
    "    d=b**2-4*a*c\n",
    "    if d>0:\n",
    "        x1=(-b+math.sqrt(d))/2*a\n",
    "        x2=(-b-math.sqrt(d))/2*a\n",
    "    elif d==0:\n",
    "        x1=-b/2*a\n",
    "        x2=-b/2*a\n",
    "    else:\n",
    "        ro=-b/2*a\n",
    "        im=(math.sqrt(-d)/2*a)\n",
    "        x1=f\"{ro}+{img}i\"\n",
    "        x1=f\"{ro}-{img}i\"\n",
    "    return x1,x2\n",
    "qua(1,-3,2)\n",
    "        \n"
   ]
  },
  {
   "cell_type": "code",
   "execution_count": 35,
   "id": "15b2a7c0",
   "metadata": {},
   "outputs": [],
   "source": [
    "#Rock Paper Scissors Game\n",
    "import random\n",
    "def rps(u):\n",
    "    l=['rock','paper','scissors']\n",
    "    c=random.choice(l)\n",
    "    if u=='rock' and c=='scissors':\n",
    "        return \"You chose Rock, Computer chose Scissors You Win!\"\n",
    "    if u=='paper' and c=='rock':\n",
    "        return \"You chose Paper, Computer chose Rock You Win!\"\n",
    "    if u=='scissors' and c=='paper':\n",
    "        return \"You chose Scissors, Computer chose Paper You Win!\"\n",
    "    if c=='rock' and u=='scissors':\n",
    "        return \"Computer chose Rock, You chose Scissors Computer Win!\"\n",
    "    if c=='paper' and u=='rock':\n",
    "        return \"Computer chose Paper, You chose Rock Computer Win!\"\n",
    "    if c=='scissors' and u=='paper':\n",
    "        return \"Computer chose Scissors, You chose Paper Computer Win!\"\n",
    "u=input()\n",
    "rps(u)\n",
    "   \n"
   ]
  },
  {
   "cell_type": "code",
   "execution_count": null,
   "id": "8a2d8758",
   "metadata": {},
   "outputs": [],
   "source": [
    "#Sum from Command Line\n",
    "import sys\n",
    "def sum_from_cli():\n",
    "    numbers = list(map(int, sys.argv[1:]))\n",
    "    total = sum(numbers)\n",
    "    print(\"Sum =\", total)"
   ]
  },
  {
   "cell_type": "code",
   "execution_count": 43,
   "id": "a6b72a04",
   "metadata": {},
   "outputs": [
    {
     "name": "stdout",
     "output_type": "stream",
     "text": [
      "('Python 101', 2)\n",
      "('Python 101', 3)\n"
     ]
    },
    {
     "data": {
      "text/plain": [
       "{'Python 101': 3, 'Data Science': 2}"
      ]
     },
     "execution_count": 43,
     "metadata": {},
     "output_type": "execute_result"
    }
   ],
   "source": [
    "#Library System\n",
    "class Libsys:\n",
    "    def __init__(self,book):\n",
    "        self.book=book\n",
    "    def borrow(self,t):\n",
    "        \n",
    "        if t in self.book:\n",
    "            self.book[t] -= 1\n",
    "            return t,self.book[t]\n",
    "    def reBook(self,t):\n",
    "        self.book[t] += 1\n",
    "        return t,self.book[t]\n",
    "    def show(self):\n",
    "        \n",
    "            return self.book\n",
    "lib = Libsys({\"Python 101\": 3, \"Data Science\": 2})\n",
    "    \n",
    "print(lib.borrow(\"Python 101\"))\n",
    "    \n",
    "print(lib.reBook(\"Python 101\"))\n",
    "    \n",
    "lib.show()\n",
    "\n"
   ]
  },
  {
   "cell_type": "code",
   "execution_count": null,
   "id": "86cf42b6",
   "metadata": {},
   "outputs": [
    {
     "name": "stdout",
     "output_type": "stream",
     "text": [
      "Access Granted\n",
      "700\n",
      "400\n",
      "500\n"
     ]
    }
   ],
   "source": [
    "#ATM Machine with PIN\n",
    "class ATM:\n",
    "    def __init__(self,pin,bal):\n",
    "        self.bal=bal\n",
    "        self.pin=pin\n",
    "    def login(self,p):\n",
    "        if p==self.pin:\n",
    "            return \"Access Granted\"\n",
    "        else:\n",
    "            return \"Access Not Granted\"\n",
    "    def checkbal(self):\n",
    "        return self.bal\n",
    "    def deposit(self,a):\n",
    "        bal=self.bal+a\n",
    "        return bal\n",
    "    def withdraw(self,a):\n",
    "        if a>self.bal:\n",
    "            return \"Insufficient Balance\"\n",
    "        else:\n",
    "            return self.bal-a\n",
    "atm = ATM(1234, 500)\n",
    " \n",
    "print(atm.login(1234))\n",
    " \n",
    "print(atm.deposit(200))\n",
    " \n",
    "print(atm.withdraw(100))\n",
    " \n",
    "print(atm.checkbal())"
   ]
  },
  {
   "cell_type": "code",
   "execution_count": null,
   "id": "b2a21725",
   "metadata": {},
   "outputs": [
    {
     "name": "stdout",
     "output_type": "stream",
     "text": [
      "('Dr. Smith', 'is teaching', 'Python')\n",
      "('Alice', 'is enrolled', 'Python')\n",
      "('Dr. Smith', 'assigned', 'Project 1')\n",
      "('Alice', 'submitted', 'Project 1')\n"
     ]
    }
   ],
   "source": [
    "#University System\n",
    "class Professor:\n",
    "    def __init__(self,na,sub):\n",
    "        self.na=na\n",
    "        self.sub=sub\n",
    "    def teach(self,co):\n",
    "        return self.na,\"is teaching\",co\n",
    "    def gassi(self,a):\n",
    "        return self.na,\"assigned\",a\n",
    "class Student:\n",
    "    def __init__(self,na):\n",
    "        self.na=na\n",
    "    def enroll(self,co):\n",
    "        return self.na,\"is enrolled\",co\n",
    "    def sassi(self,a):\n",
    "        return self.na,\"submitted\",a\n",
    "prof = Professor(\"Dr. Smith\", \"Computer Science\")\n",
    " \n",
    "stud = Student(\"Alice\")\n",
    " \n",
    "print(prof.teach(\"Python\"))\n",
    " \n",
    "print(stud.enroll(\"Python\"))\n",
    " \n",
    "print(prof.gassi(\"Project 1\"))\n",
    " \n",
    "print(stud.sassi(\"Project 1\"))"
   ]
  },
  {
   "cell_type": "code",
   "execution_count": 38,
   "id": "2021b769",
   "metadata": {},
   "outputs": [
    {
     "name": "stdout",
     "output_type": "stream",
     "text": [
      "('Booked', 2, 'tickets for', 'Avatar')\n",
      "('Cancelled', 1, 'ticket(s) for', 'Avatar')\n",
      "Movies: {'Avatar': 9, 'Batman': 5}\n"
     ]
    }
   ],
   "source": [
    "#Movie Ticket Booking\n",
    "class Cinema:\n",
    "    def __init__(self, movies):\n",
    "        self.movies = movies\n",
    "\n",
    "    def book(self, movie, seats):\n",
    "        if movie in self.movies and self.movies[movie] >= seats:\n",
    "            self.movies[movie] -= seats\n",
    "            return \"Booked\", seats, \"tickets for\", movie\n",
    "        return \"Not enough seats or movie not found\"\n",
    "\n",
    "    def cancel(self, movie, seats):\n",
    "        if movie in self.movies:\n",
    "            self.movies[movie] += seats\n",
    "            return \"Cancelled\", seats, \"ticket(s) for\", movie\n",
    "        return \"Movie not found\"\n",
    "\n",
    "    def show_movies(self):\n",
    "        print(\"Movies:\", self.movies)\n",
    "\n",
    "cinema = Cinema({\"Avatar\": 10, \"Batman\": 5})\n",
    "print(cinema.book(\"Avatar\", 2))\n",
    "print(cinema.cancel(\"Avatar\", 1))\n",
    "cinema.show_movies()"
   ]
  },
  {
   "cell_type": "code",
   "execution_count": 39,
   "id": "85ee67bd",
   "metadata": {},
   "outputs": [
    {
     "name": "stdout",
     "output_type": "stream",
     "text": [
      "('Burger', 'added')\n",
      "('Pizza', 'added')\n",
      "('Pizza', 'price updated to', 250)\n",
      "('Burger', 'removed')\n",
      "Menu: {'Pizza': 250}\n"
     ]
    }
   ],
   "source": [
    "#Restraunt Menu\n",
    "class Menu:\n",
    "    def __init__(self):\n",
    "        self.items = {}\n",
    "\n",
    "    def add_item(self, name, price):\n",
    "        self.items[name] = price\n",
    "        return name, \"added\"\n",
    "\n",
    "    def remove_item(self, name):\n",
    "        if name in self.items:\n",
    "            del self.items[name]\n",
    "            return name, \"removed\"\n",
    "        return \"Item not found\"\n",
    "\n",
    "    def update_price(self, name, new_price):\n",
    "        if name in self.items:\n",
    "            self.items[name] = new_price\n",
    "            return name, \"price updated to\", new_price\n",
    "        return \"Item not found\"\n",
    "\n",
    "    def show_menu(self):\n",
    "        print(\"Menu:\", self.items)\n",
    "\n",
    "menu = Menu()\n",
    "print(menu.add_item(\"Burger\", 100))\n",
    "print(menu.add_item(\"Pizza\", 200))\n",
    "print(menu.update_price(\"Pizza\", 250))\n",
    "print(menu.remove_item(\"Burger\"))\n",
    "menu.show_menu()"
   ]
  },
  {
   "cell_type": "code",
   "execution_count": null,
   "id": "8f1596ee",
   "metadata": {},
   "outputs": [],
   "source": []
  }
 ],
 "metadata": {
  "kernelspec": {
   "display_name": "Python 3",
   "language": "python",
   "name": "python3"
  },
  "language_info": {
   "codemirror_mode": {
    "name": "ipython",
    "version": 3
   },
   "file_extension": ".py",
   "mimetype": "text/x-python",
   "name": "python",
   "nbconvert_exporter": "python",
   "pygments_lexer": "ipython3",
   "version": "3.11.0"
  }
 },
 "nbformat": 4,
 "nbformat_minor": 5
}
